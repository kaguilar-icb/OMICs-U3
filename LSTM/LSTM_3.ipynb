{
 "cells": [
  {
   "cell_type": "code",
   "execution_count": 1,
   "metadata": {},
   "outputs": [],
   "source": [
    "from tensorflow import keras\n",
    "from tensorflow.keras import layers\n",
    "\n",
    "import numpy as np\n",
    "import random\n",
    "import io"
   ]
  },
  {
   "cell_type": "code",
   "execution_count": 2,
   "metadata": {},
   "outputs": [
    {
     "name": "stdout",
     "output_type": "stream",
     "text": [
      "Corpus length - Cantidad de caracteres: 632969\n",
      "Caracteres =  [' ', 'a', 'c', 'g', 'n', 't']\n",
      "Total chars: 6\n",
      "char_indices =  {' ': 0, 'a': 1, 'c': 2, 'g': 3, 'n': 4, 't': 5}\n",
      "indices_char =  {0: ' ', 1: 'a', 2: 'c', 3: 'g', 4: 'n', 5: 't'}\n",
      "Number of sequences: 210960\n"
     ]
    }
   ],
   "source": [
    "path = (\"sequence_3.fasta\")\n",
    "with io.open(path, encoding=\"utf-8\") as f:\n",
    "    text = f.read().lower()\n",
    "text = text.replace(\"\\n\", \" \")  # We remove newlines chars for nicer display\n",
    "print(\"Corpus length - Cantidad de caracteres:\", len(text))\n",
    "\n",
    "chars = sorted(list(set(text)))\n",
    "print('Caracteres = ',chars)\n",
    "print(\"Total chars:\", len(chars))\n",
    "char_indices = dict((c, i) for i, c in enumerate(chars))\n",
    "indices_char = dict((i, c) for i, c in enumerate(chars))\n",
    "print('char_indices = ', char_indices)\n",
    "print('indices_char = ', indices_char)\n",
    "# cut the text in semi-redundant sequences of maxlen characters\n",
    "maxlen = 89\n",
    "step = 3\n",
    "sentences = []\n",
    "next_chars = []\n",
    "for i in range(0, len(text) - maxlen, step):\n",
    "    sentences.append(text[i : i + maxlen])\n",
    "    next_chars.append(text[i + maxlen])\n",
    "print(\"Number of sequences:\", len(sentences))\n",
    "\n",
    "x = np.zeros((len(sentences), maxlen, len(chars)), dtype=np.bool)\n",
    "y = np.zeros((len(sentences), len(chars)), dtype=np.bool)\n",
    "for i, sentence in enumerate(sentences):\n",
    "    for t, char in enumerate(sentence):\n",
    "        x[i, t, char_indices[char]] = 1\n",
    "    y[i, char_indices[next_chars[i]]] = 1"
   ]
  },
  {
   "cell_type": "code",
   "execution_count": 3,
   "metadata": {},
   "outputs": [],
   "source": [
    "model = keras.Sequential(\n",
    "    [\n",
    "        keras.Input(shape=(maxlen, len(chars))),\n",
    "        layers.LSTM(128),\n",
    "        layers.Dense(len(chars), activation=\"softmax\"),\n",
    "    ]\n",
    ")\n",
    "optimizer = keras.optimizers.RMSprop(learning_rate=0.01)\n",
    "model.compile(loss=\"categorical_crossentropy\", optimizer=optimizer)"
   ]
  },
  {
   "cell_type": "code",
   "execution_count": 4,
   "metadata": {},
   "outputs": [],
   "source": [
    "def sample(preds, temperature=1.0):\n",
    "    # helper function to sample an index from a probability array\n",
    "    preds = np.asarray(preds).astype(\"float64\")\n",
    "    preds = np.log(preds) / temperature\n",
    "    exp_preds = np.exp(preds)\n",
    "    preds = exp_preds / np.sum(exp_preds)\n",
    "    probas = np.random.multinomial(1, preds, 1)\n",
    "    return np.argmax(probas)"
   ]
  },
  {
   "cell_type": "code",
   "execution_count": 5,
   "metadata": {
    "scrolled": false
   },
   "outputs": [
    {
     "name": "stdout",
     "output_type": "stream",
     "text": [
      "4220/4220 [==============================] - 261s 62ms/step - loss: 1.3455\n",
      "\n",
      "Generating text after epoch: 0\n",
      ">seed ctaatatcggggaacatattttgtgactaggggtgataaatagtacaaaatctatgtttattgattgggtgtagagagtaggtcgggtc, Diversity: 1.0\n",
      "tttttgctttaatcttgtgctcgctctgacctccaaacaaacttcagatgatgtatgacaccttcatgcacctacaaagaagctttgcgactgagcataaaaaaacccttgaatttgtggggtaaatagatatagccagaccatttcgccattgaaggcaccacactgtctggttctgacatcatggacagtacagcgccgggggatctaagtagtaagagcgagaaccgaagatgaacaacaaccgagtaaaggacacaggggtcccggaaacccggtgtatgcagtgcagaggttagcccgctcccttatacacgatgatcccctgctgatttggagaaacaccgtaactgcttacaaggcacgcatgggaagcataacccgtggcccagagagcaccgccgacggacagagggcgtgcgcggacgtccgagctccctacgagaagaccgatacgtagttgcccgcgatgagtgctaatatcctccctccctttgattccggggggcggccgcggggtccgctgcaccgtcaggggctgaccctgacgccaagatgccagcggctgcccaaacgtcggctcccgtgacaggactccggcggtagagaacacgaggtgtccagcgaacctccagcggtaccgtgtaactacgttcgtcttttaagagggacgctcttgcaccgatcccacaatcgttgagacaacggcaagtagacggcgatactggctgacgaattgatcaccgcttcttctttttaggtttttgtattcggttgtggttcattagatttttacttgcattgtaggcaaactgaaacctagtattactgctagtgagtaataaataggaatctgtactactataattttacaaccggcgtcagttaatttgttcctacacattgacttttgcacaagcgttttcatgcaaatgaacaaaatatgtgttcaacataaaacgcacacctaggaccatcaatactggcaacacaatgaata\n",
      "\n",
      ">seed ctaatatcggggaacatattttgtgactaggggtgataaatagtacaaaatctatgtttattgattgggtgtagagagtaggtcgggtc, Diversity: 1.2\n",
      "cagcccctcggtagccacctaaaataaaaattaggcgcgcatgaaccattaaatggagtgagggcgatacgagaggaggacatgcggcacatacaacagcagtttaaaaagacaagggagcagcaacacaagaagcatcaaaatcgacgacgcctcaagcagagattttcatagttttcccaacaaagaggcagcctttagtatatcctaaataaattccacttcgacaatcaattaactcgctttctaactctattatattgtaggcaaaaattctccatatgcttcatatgtgtttttctcgctagccgtcttttgtgtctacgtgtgggtggttttcccctagtcttataatttgttcctacacaaccattacattgagttagctctttagtagtctcgagtaatcattgcttcacaacaatatttcaacacagaaaaacgtaaggcgcaggcccacagctattggctctaggaaaatgtttactctcggcaggaaacatcaggatatatgggtcccctatcttgcttggacctttccctgatagtcctgtagtgcacaattcaacatatattttcataatcccacaagtaatcctcatggattccttttttgacatcacagttacaattagcaccacccgctttgagaccagttagtcctagatgtagtatatgcgcacattcaacaatgtttccccaactatttcaaaatgtctccttagattcgagcatatgtttgagttgtatgctgtctttttccttaaatttgattaagctctcagtacagaatgggtgaaaaaacaaactctccaagtttgttaaatgtggtcataaattcctcagaatgtcattattcttcaatgtaaaattgttcaataactactaacatttttcccatttaaagctagaaacgattgtaaggatgcaagaaaaatagaaaatttggctgctgaatacatatggaattttccaaactagtccatagtcccacgtactc\n",
      "\n",
      "4220/4220 [==============================] - 284s 67ms/step - loss: 1.3192\n",
      "\n",
      "Generating text after epoch: 1\n",
      ">seed agtgatctctctaggttccattgcatatgttctatttgaatcctaaagataattttctctttagttgtagtgaaacatgtttccttatt, Diversity: 1.0\n",
      "gaatttttagctccaggataaaaatcaatattccagacaacaatcggtaacgaggacttgtcagggatttggcgggttgattcttcccggaaggaacaaccgaagataaatcgaacctcttgtaagggaaaaaccaatgatggaggagctaccatgaaactcgaagcgaccccaccagatgacaatctgatccaggacgaggactcgccgagttggcttcgtcgagaaaacgtcgaaggggcgattccagcatcgagcaactcggttgcacgctccaaacccactttgaagtggtaatcacaaatcttctggtatgcgggatgttgaagatgtatgagtgcttttagttataagataggtcaaaaatacgactagaacgcggcaaagggcatacatattgttccaggggactcagaatcctgaaggtttaagggactcaggttgcgcactgggcggcgtggtgccgtctgggtaagaaatcgtcgtggagcaaaggtatcgggacaaactagatcgtgatcgttcaatcttgaccagagctgagtgagttgggtttacccgttatccacggttaaggatttcggggcgtaattcgcaggcatcaggctggcatcgatgaagttggggttcaacatttgtttgatgacccggcgcagttgatcaaattccacgtagggtaccaatagcaaaccagacggaggaaaattccaccgctaatctctgaacggcctggggtggggacgagtgcggggacgggctgtgccggtgagggaagttacactacgtgggcggtatcgagtggtgggtgtggccgatgggtgggaagggaaagcgcgtgaggagcgcgaggcggtatggtggggacgcggcggaggcgtgcgggcgggcacgagggccgggcacccgatgaaagagggtcgagcggtggttagagggccgggacgtgtcgggcagggacactgcactcacctcctaccgcagccgtctaggacgtgccccc\n",
      "\n",
      ">seed agtgatctctctaggttccattgcatatgttctatttgaatcctaaagataattttctctttagttgtagtgaaacatgtttccttatt, Diversity: 1.2\n",
      "catcacatagccgtccacactaagagcttgtatactgctcattagttgcataccgaaaaacgaaaaatggctccgcagcccagtcgagcctgacttcgaatgatcaccaggtgatccgagttatgagaacatgtcttgtgctgttgccgccaaaactagggagggggtccagggatcgcccgacaaggacagatcggtgtgtcgggtgggcaccgaactagcctgcgagcatttttgacgcagccaggtcgtgtcgtggtcaagggtcgcacgcgacccaagaacccagaataagggaacgtcagaccccacgtcgaacatgatcaccggaaatggaatacgactggttaacagaaggttggcctcccgggaaaatttcgaaagcccacggcacgctgcctcatcgctgaaacaccgcctacgccccatgaaatgggacaggcccccccaagggaccgaccaccgttagaccgctctcgaaagaacagcggagatcatggtgaatgacttgagacgaaagagggaactggaggctggcgatgctgaatttcgtaacagcactgatgacgggaagccatcctgctgcaccgctgtgtcccttttgtagacctactccggctgtttggggcaattgttcttgctccagttgctacttaaaacccgataacacgagcttctgataaggacgggcatgtacgccaatcaacactttttatacatgacaatcggtttactaccgcttgcgtgactcgtggcgagcaatgtactaatttgtatctccgactacccggtgacacaaacccggcatccccgtttgaaccaagggcgactagacgggggcgtggaattgccctgcccgccgaccccgacccaggcaccccagctttccccacgttgaaaggccgccaagcaccgaccgtgctacagcgaacccaggccaagtgtcatggttttgagggatgcggcagcgaattcaaacatacgacgatcatcggatgct\n",
      "\n",
      "4220/4220 [==============================] - 289s 69ms/step - loss: 1.3022\n",
      "\n",
      "Generating text after epoch: 2\n",
      ">seed cttgttcaaaaaaacggtacctcccttatatataataagtgatttcatttgttgctattactcatgagtaacacaccaaactctatctt, Diversity: 1.0\n",
      "aaaccgtatttgctccgtggataggatggagtggatgggtttatactttcagaaatcaagaaaagtagcgaaaaagagtctgcgaagaatgatgacagccaaatatacaaagaaagttacaccaaatgcacttacctcacagaagctagtggttaggtcgagcaagctctacatctgtcctttcgtgctgctagtacatgagtattgattgtggctgtcttatagtaccgggagattgccgaagacttctgagagaaagtcgttgtcattagtattggccatagtggggcaggcaacgggaacagaaagtcaaccagttatctggaactttatgaatgatatataatttactgaattctcttgagtagtatcgactctttccaacgtccattgacattcatttgcatactcgatagttatcaatttaatagttgatttaattgctaattatagcttcatttttatttttcttggacgaaactgactattatattgcggtatttagtttaaggttccattatattgtcacatgttttatatgccaatttctacaaatgtataggaaagttagtagagcgtagtttttttgtatcgggtgacactaacaggtgtcacatctcggacataaccaatgaaaagaaaatgatgaattgtctgaggaagcttgaaatctagttgacgtaagaataagatcaggacgaaattaagcatgaatttaatgcttatcttagtaaagtttgaaccatctgtctattctggatctttattttttgtgaaaagatttgttgaagttttcctctcacaagtgcaggtaaactgtgaattttctcagtatagctttgttttcgaaaagttgtgacctgtattttctgtgtacatttcataacatttttttgctgcagaacatgaagctgatttttttgggtcatttgtttaatagtttccaagaagaatatagcttgacattttgaccgtctagttgtgtgagatatagttcgag\n",
      "\n",
      ">seed cttgttcaaaaaaacggtacctcccttatatataataagtgatttcatttgttgctattactcatgagtaacacaccaaactctatctt, Diversity: 1.2\n",
      "atacaaaatacattgtagttaattcaacgtcacattagtggaagtataggcggtatgggttaatatctggtctgtagaggtactctaataacgtaagagcatcattggagatatttatatcatatttcggctagagtgggcaggaaagaggtcgaggatgacgaaatgggaagagggaacgggctgaagccctaggtgaggattggtggtcatgcgtgcggacaacgggtgaggattattttgcttgtaaagcctcgacatagttcatatctccaattgcgatctcgtcgcggatcccaggaggggccctcctccctcctgtgggatctcggagcgtatgctttagcaggttttgaggaagatatgacgtgaggatttgtaataccttgaggtactactaattgtagattcacttggcgctagctggctctaggggcaagagccgacgacgacgaagtaacaagcaggttgcgatttctccatttgaccaacgagatgtaggttggatgtttacaaagtttgaaccatataatccgtagtctcttcatgccttacaattgggtataaatgtgttcgcagaaaaaggacatagcgaagaggaaggacgggtctaataatgttgcagcgattccaaagggaagaagaagaagaagaagaaagcaaaataaatgaaatagtagaagaaagaagtagaagaaaaaagaataaaattgcggtaggaagaagaagggaagaagagaggagaaaagaaaaaaggacaagaagaacaagaagaaaaaggagaagaaagtaagaggagaagaagagaagaaaggagggaagggaggataaattgaagaggagaagtagaacaagaggagagaaaagggaagaaaaagagtggaagaaaagaagagaagaagaaaaaggaggagaagaaaaaaaggttgaagaaatgaagaaaagaagaaaagaagaaaagaagaacagaagaaaggaagaaaaaggagaagaaaggaag\n",
      "\n",
      "4220/4220 [==============================] - 271s 64ms/step - loss: 1.2932\n",
      "\n",
      "Generating text after epoch: 3\n",
      ">seed tttaattgaaaataacaaaatagttaatagtttggatagtcaaaataattaattttgaaaatagaaaatagttttgaattatttattca, Diversity: 1.0\n",
      "aaaaatagtttggatagtttggatagttgaattgaaaatagttaatgcatagtttgtaaaaaaataattaatgaaaaaaactacatgcaaaataacaaaatgaaatcatgcaaatgatgaaataaatagaaatttaattgaattttcattgaaatataaatactgaactatatcaaatgaaatattgaaacaaaccaagtaggacgattttaagcaagtcacaaatgaaattttatgtacaaggagtggatatattaggtttagaatgatgatcatatgtacatattttcgtcatgcaaatggtgaatctcatcggagataccaatataggtattctcgaaattattttgggatattgtacttgttgtattggattgcggcccggagattcgtatccattgacaatagggcaagtggcttttagttcttgaatttagtggaaacttgaagctttctatggtggtgaggctaccagttttgcacatgcgggatgtattaggactgtgaagatatatcctcattcgacgccatgaatgaaccccagctacatgaaagattccactaacctttcacacgattgacgttcccgtcggagaaagttgtcttgctggctagtggctcccctcctcctccacctcctccccctgcctcccctcctcctcctccttctgccccgccggcacacacgggcctccggcgccgccacgccccaccgccccccacccccgccacccccccccaatcccacctcctcctcctccgccgccggtcaaggggtctgccgtgttccgggaagtcctcctcctccctaggtcccgcccgcctccgcacctccaagcgccgtcctcctcgccgacctcgtctgctagccggtcctcggagcacctgcctgctgcgccgggactcaccgccggccggcttgcggcatggcccgccacctcgactggagaaagacttccggcgtcgaagaccgttgtcgtccaactcctcccgcccctca\n",
      "\n",
      ">seed tttaattgaaaataacaaaatagttaatagtttggatagtcaaaataattaattttgaaaatagaaaatagttttgaattatttattca, Diversity: 1.2\n"
     ]
    },
    {
     "name": "stdout",
     "output_type": "stream",
     "text": [
      "aaaaatgaaatgcacgaaatataaagaagagatatacattattccctcttattcatgtaacagatataagaccaaacatggaaaagataataaagtgtttgcatggaattgaccaacttccagggttttttgcatctaatgaagaggcatccaaatggaatttgacaaatgaaagagttgtcctcattgaagcttggaaaaatttagcttgacaaaattagctgtcactatgagtcgtgagtttctaagttgtagcactagttgctttttcaagacaaacatgtcaaactcccagcaggttcattcagggggcaaaaagccaccagagacgaggaaatcattatttcttttcaccaccaagctagttggtaatacatagaaacaactactctcgctgactgaggagaagaagaagaaggaatggatgaagagaagaaattttgaaatgaagaccaaactatgacaaacgaagagagagccatattgttttgcggattgaggttttgggctttttcggcgctgaactattcatcctggcgcggcggtttcgtttacacgaatcgaggaggtcggtccatctcgttgccgccggctagcaccccctcccctccgcctcccctgccctcccctaccaagagctaccccacccgggactcgtcctcctggtcccgcacccccccccccccctctcccccaacatcaccacgtccatgaccgggaccataatcgtcgccgaccacaccccgccgccgaccaacacccccacctctaacgctaggggctgcgtgcaaacaccgacaacaattcaaccacacggtcgacataaatcgatcagccaacaccaccggaggcaccaagcggcctaattgccacattatgatagaataaaaagaagaaaagaaaacatggcaaagattatatctaatcaatgaagagtcttacacagcgttgtaacctccaaaaacatcctgcgagggtggggtagcggactgagaacctg\n",
      "\n",
      "4220/4220 [==============================] - 263s 62ms/step - loss: 1.3285\n",
      "\n",
      "Generating text after epoch: 4\n",
      ">seed gccgtccgcctcgccgtcggccgtcctcctcgccgccgcaccgtcctcctcgccgtcctcctcgccgccgcgctgtcctcctcgccgtc, Diversity: 1.0\n",
      "gccgtcggtaatggtgcccttgaatgtcgacagacagactcctcggagtggcagagaggacttgtggggggaaggacgttagggctgcatggtcgaacaaaccatcgagaggcctgggaccacaaagggctgccaccccgtctggtggtgccgcgaccgcgcgatcgatgcaagaaaaaaggtttcaaaacgatgaaagtgcaggtgcagagagggggctgtgctagggaggctccaacgccggcccgggcggacccacaatggaaaccggctccgcgccccgtcgacgtccaaagggtgctcccacctccacgcccggacacctgtgccgccctcgactccgcctaagcacctggcccaccacccggatggcacagcgctaggctcctcgccaaagatgcggacctccgccgggttccgtgcgtgcttcaggagaacgtaaggattttctgaggtcgaacgccaagagagggcgcccctccctgtttgttctgccaaccggagcagagatagactgctgtggagaagaaaaaagtacggcggacagatgacgctgtgacactccgatattctagatttccgactagtaccgtagaaaaggatagcgggcattgtgtaccagagtttggttcccggaagggggcagacagacagatttttattagaagaggaagtgatgcaggaccctagagatcataaggcaccccacacctcaggtcgataggacccctccttgccacatcctccaaccatctatcccttttctggctgatgtaagggtgaagcctgcgtcgctccaagcgggaaggagttgcattctgccaaggtggtttcggggatacaccgctgaaccgaagaaagaaggacccacaacacccccgaccgtcgcggcgccgctaatccgcatgttgacggcggcccctcccctctccgaccacctcaaaacaataacatggcgtgcataaacacgtagatgtatatattgtatggaaatgagtaa\n",
      "\n",
      ">seed gccgtccgcctcgccgtcggccgtcctcctcgccgccgcaccgtcctcctcgccgtcctcctcgccgccgcgctgtcctcctcgccgtc, Diversity: 1.2\n",
      "aacgccctcgccagccggtgcgacccactccacgccaccgaccgaccagacacacaccgccgccatcgacaccgcggcatccaaaccaacgaacgctccacacccgatcttcggatatgtattgatgtacagaagcaccataacgagaggttgatcagcaaactacagaagagacccggtcatgcagaacctccgacgtcctcaaaaaagcctccactagcctccaccgtctacacccaccaccttcggcttactctcacacagcacaatgtggagccgccactgctgcagatcccctctaactgtgctatgtcgtcattctgaacttagacttaattataacctgagcgcaacaaagataggagagaagaggggtgaggaggaaaggatgtgtgcgggggacggtcaagggaatgagtttcgtgccagatctgatagtagttgtaggtttggtaaaggtctttttcgaccgaatatttaggctccgccttttggcgcaggacccacacaaactgaaccatggattctacactcgcctagcagagctccagcgtagtaagaaaaacatactgggaggcgtttgctgacacggttggagtttcccccttgttcctgggcgtggcgtcgccgccgagccggtccggtcgagctgtaggagagggcaaggcagtgaggggggcggacgccgttcggagccaaggtgtggggcggggccaaaagggagcttcggagtcaaggtaaaggggtgggagcctcccgcaacagtggacgagggccccaagcccggggacccaaacgagcgggccacgtctttcgagaggcccactcacgtagaaccaatccatcatcctatgccggctgccgttcctcctctaactgcaccatttctttgtctttcccagggcatcgagattaccaacggaagaatccaacaaccgggttcgctcatgtccgccggcgggtgccgccgcgaccaacctccacctcccaacggtcgcac\n",
      "\n"
     ]
    }
   ],
   "source": [
    "epochs = 5\n",
    "batch_size = 50\n",
    "\n",
    "#import sys\n",
    "#sys.stdout = open(\"LSTM_output.txt\", \"w\")\n",
    "for epoch in range(epochs):\n",
    "    model.fit(x, y, batch_size=batch_size, epochs=1)\n",
    "    print()\n",
    "    print(\"Generating text after epoch: %d\" % epoch)\n",
    "\n",
    "    start_index = random.randint(0, len(text) - maxlen - 1)\n",
    "    for diversity in [1.0, 1.2]:\n",
    "        \n",
    "        generated = \"\"\n",
    "        sentence = text[start_index : start_index + maxlen]\n",
    "        print(\">seed {}, Diversity: {}\". format(sentence, diversity))\n",
    "\n",
    "        for i in range(1000):\n",
    "            x_pred = np.zeros((1, maxlen, len(chars)))\n",
    "            for t, char in enumerate(sentence):\n",
    "                x_pred[0, t, char_indices[char]] = 1.0\n",
    "            preds = model.predict(x_pred, verbose=0)[0]\n",
    "            next_index = sample(preds, diversity)\n",
    "            next_char = indices_char[next_index]\n",
    "            sentence = sentence[1:] + next_char\n",
    "            generated += next_char\n",
    "\n",
    "        print(generated)\n",
    "        print()"
   ]
  },
  {
   "cell_type": "code",
   "execution_count": null,
   "metadata": {},
   "outputs": [],
   "source": []
  }
 ],
 "metadata": {
  "kernelspec": {
   "display_name": "Python 3",
   "language": "python",
   "name": "python3"
  },
  "language_info": {
   "codemirror_mode": {
    "name": "ipython",
    "version": 3
   },
   "file_extension": ".py",
   "mimetype": "text/x-python",
   "name": "python",
   "nbconvert_exporter": "python",
   "pygments_lexer": "ipython3",
   "version": "3.8.5"
  }
 },
 "nbformat": 4,
 "nbformat_minor": 4
}

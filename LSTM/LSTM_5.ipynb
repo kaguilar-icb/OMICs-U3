{
 "cells": [
  {
   "cell_type": "code",
   "execution_count": 4,
   "metadata": {},
   "outputs": [],
   "source": [
    "from tensorflow import keras\n",
    "from tensorflow.keras import layers\n",
    "\n",
    "import numpy as np\n",
    "import random\n",
    "import io"
   ]
  },
  {
   "cell_type": "code",
   "execution_count": 13,
   "metadata": {},
   "outputs": [
    {
     "name": "stdout",
     "output_type": "stream",
     "text": [
      "Corpus length - Cantidad de caracteres: 632969\n",
      "Caracteres =  [' ', 'a', 'c', 'g', 'n', 't']\n",
      "Total chars: 6\n",
      "char_indices =  {' ': 0, 'a': 1, 'c': 2, 'g': 3, 'n': 4, 't': 5}\n",
      "indices_char =  {0: ' ', 1: 'a', 2: 'c', 3: 'g', 4: 'n', 5: 't'}\n",
      "Number of sequences: 210890\n"
     ]
    }
   ],
   "source": [
    "path = (\"Hvul_TE.fasta\")\n",
    "with io.open(path, encoding=\"utf-8\") as f:\n",
    "    text = f.read().lower()\n",
    "text = text.replace(\"\\n\", \" \")  # We remove newlines chars for nicer display\n",
    "print(\"Corpus length - Cantidad de caracteres:\", len(text))\n",
    "\n",
    "chars = sorted(list(set(text)))\n",
    "print('Caracteres = ',chars)\n",
    "print(\"Total chars:\", len(chars))\n",
    "char_indices = dict((c, i) for i, c in enumerate(chars))\n",
    "indices_char = dict((i, c) for i, c in enumerate(chars))\n",
    "print('char_indices = ', char_indices)\n",
    "print('indices_char = ', indices_char)\n",
    "# cut the text in semi-redundant sequences of maxlen characters\n",
    "maxlen = 300\n",
    "step = 3\n",
    "sentences = []\n",
    "next_chars = []\n",
    "for i in range(0, len(text) - maxlen, step):\n",
    "    sentences.append(text[i : i + maxlen])\n",
    "    next_chars.append(text[i + maxlen])\n",
    "print(\"Number of sequences:\", len(sentences))\n",
    "\n",
    "x = np.zeros((len(sentences), maxlen, len(chars)), dtype=np.bool)\n",
    "y = np.zeros((len(sentences), len(chars)), dtype=np.bool)\n",
    "for i, sentence in enumerate(sentences):\n",
    "    for t, char in enumerate(sentence):\n",
    "        x[i, t, char_indices[char]] = 1\n",
    "    y[i, char_indices[next_chars[i]]] = 1\n",
    "    "
   ]
  },
  {
   "cell_type": "code",
   "execution_count": 14,
   "metadata": {},
   "outputs": [],
   "source": [
    "model = keras.Sequential(\n",
    "    [\n",
    "        keras.Input(shape=(maxlen, len(chars))),\n",
    "        layers.LSTM(128),\n",
    "        layers.Dense(len(chars), activation=\"softmax\"),\n",
    "    ]\n",
    ")\n",
    "optimizer = keras.optimizers.RMSprop(learning_rate=0.01)\n",
    "model.compile(loss=\"categorical_crossentropy\", optimizer=optimizer)"
   ]
  },
  {
   "cell_type": "code",
   "execution_count": 15,
   "metadata": {},
   "outputs": [],
   "source": [
    "def sample(preds, temperature=1.0):\n",
    "    # helper function to sample an index from a probability array\n",
    "    preds = np.asarray(preds).astype(\"float64\")\n",
    "    preds = np.log(preds) / temperature\n",
    "    exp_preds = np.exp(preds)\n",
    "    preds = exp_preds / np.sum(exp_preds)\n",
    "    probas = np.random.multinomial(1, preds, 1)\n",
    "    return np.argmax(probas)"
   ]
  },
  {
   "cell_type": "code",
   "execution_count": 20,
   "metadata": {
    "scrolled": false
   },
   "outputs": [
    {
     "name": "stdout",
     "output_type": "stream",
     "text": [
      "2109/2109 [==============================] - 762s 361ms/step - loss: 1.3637\n",
      "\n",
      "Generating text after epoch: 0\n",
      ">seed ccatagcttgaaatgctatctggattatccttgggcgaattattgcataatatcagttaacatgtttgcataatatcagttaacataatagccggatctaactatatatttatggctgcagacacaggaggaagccatgggaaaagtttgtcgactcagggaacatatttcgctctaaatttatgtacatgtacatgtgcctgttgtttttgtgtcagtatacgttgtttttgattttgctctctgattctttccgctgtgcaaattttgtgaacctgactttttttgaatcgaagtaaa, Diversity: 1.0\n",
      "attacctcgatatttttggtatgtttgcaagacatgtgttgcctttaatggacatacagaaacgaatattaggtcagccggatgaggagtagagagaaatggaggaacaccgggtttgagtgtgaagtgcgtgcagtcgggttgttcaggatgttgttggatgggacgctgggttagttcagctactacctggatctaggagattctgtgcggtggtggctcttctcgttgttcgtctctcaacgggacggatgtcccatgtccgtgtagaagaagtatggtggccggtgggcgcctccgaggccgaccacggtctggacaacagccgatttttggcagcaccctgggcattccgcttagtagcgccaccattgcctcatacgggggcgcttgaggagtggatcacaagccaggctggggactgattgtacggggcttacgctcgaggaaaagagttagcagctgctggcgctcaacgctttgatccgtgcgtcccggga\n",
      "\n",
      ">seed ccatagcttgaaatgctatctggattatccttgggcgaattattgcataatatcagttaacatgtttgcataatatcagttaacataatagccggatctaactatatatttatggctgcagacacaggaggaagccatgggaaaagtttgtcgactcagggaacatatttcgctctaaatttatgtacatgtacatgtgcctgttgtttttgtgtcagtatacgttgtttttgattttgctctctgattctttccgctgtgcaaattttgtgaacctgactttttttgaatcgaagtaaa, Diversity: 1.2\n",
      "ccccctttctgcgtggcagcgtgtcgagttgaaatgaccgaagacgccccaggtgggctgttcttgagggtgtacgcgccgtgctgggggtagtttgtggcacatgtgcggagtagggtgaacgcggaagggagttccgggtgtacccgggtctgtttgaaccctcacgtaaatgatctggggccgcgtaatgagtgtcccagcgtttagagcatgtaggctccgaccccgacagagaaggaaatggggtgcgggtgggtgcctgcagcgtgggtccccgcatcgtccacgctatcaggacgtcgggtctgttgccgttgcccggaccgcaggaacccgtattactggcggagagactctggacattgttgccctctctgagcgcgtttgttaacaagttgaagatgaatgatatgcctgctgatttgaaaaagtctttcattagcatgaatattgtttttgcattcaacgtttcttggtggatcagacttgatctcgtt\n",
      "\n",
      "2109/2109 [==============================] - 842s 399ms/step - loss: 1.3263\n",
      "\n",
      "Generating text after epoch: 1\n",
      ">seed gaagaagaaggagaaggaggaggatctcctcctcctccttctccttcttctccttattctctcctccttcttattctccctccttcttatccttcttcttttccttcttctctcctccttcttctcctcattctcctcctcctccttctccttctcctcctcctccttctccttctcctccttctccttcttcttctcttcttgcttcttctctttcttcttctacgtagcttatcttcctcaacaaatacatacttagctaattatcctccaaaatgacataattagcttagttatggt, Diversity: 1.0\n",
      "taagtagttgacacagctgggctcttcaccatctttcccttttttctctatcgcgaaatgtatatcagcctcatgcacaagtcttattttagaaaccacccatcattggcccgatcgaagactacagatcatttaaacaaaacataaaaatgtgacgccccctacatcattttctccttcccctcttccgaatcgaattgcagatgcccttcgtggtatctttcctccctcttgtcctcgacaagttgtcgccctacatccgggtttcgaagtcaacaagttgccgcgtctggcctatatatagttgaaaatgttctactaccagctcgtcatcttttcctcgttcaagctcccacgtaactaggtccatgtctcggtctattcatgatctccaagtgtcaagaccggcgcccgcctacaccatcaggaaatctttcttcacaatctacatctccaagactcaaacacatccacagccagtgcatgtcccttgaggaaga\n",
      "\n",
      ">seed gaagaagaaggagaaggaggaggatctcctcctcctccttctccttcttctccttattctctcctccttcttattctccctccttcttatccttcttcttttccttcttctctcctccttcttctcctcattctcctcctcctccttctccttctcctcctcctccttctccttctcctccttctccttcttcttctcttcttgcttcttctctttcttcttctacgtagcttatcttcctcaacaaatacatacttagctaattatcctccaaaatgacataattagcttagttatggt, Diversity: 1.2\n",
      "gccagagatgaagacagttagcaaaagctgtcaagaccctcctttttggtctcttcagctcccccatctaaagtctacgatcggaacccccgtccagacttgcccagtacagcgtcgttaacaatgtttgacgcaattgatgcttcctcctcatcgctccggagccgccctccgcacatacaggttgaaggcccacgcgccgagttcgatccgtcctcccttcagatctaagtgaacctaacagttgattttagccaggaccagctccgccttcctatcggagttgtttgccgatgccgtgaccaccgcaacagagttcaggaagctcgatcagcagtggatagctttccacaggattgtccgactctccatgccgcgcgcgcctcggtagaccgcccccggtggggacaagacgcatccaggcaacggctccttggcgtttacctctagccatttctttctaccgaaccttccggtcctcttttgaccatttgataaag\n",
      "\n",
      "2109/2109 [==============================] - 839s 398ms/step - loss: 1.3290\n",
      "\n",
      "Generating text after epoch: 2\n",
      ">seed atggctcgatcgccattggagacggccttatatgttgtcctagcactctccggcagataaaggcacgccaaacgagctcttgtccggagataacacgtcgtccatggccagtcgagctcgccatcgaggttagtttaatggactcaactatctttccgcattatgttgtgtgttggaaccaatatgattacattgctaacaatgagttgtgttggaggctgctattcagaaagagagagaggcaatgcaggtggctatggcggagaaggataaggaaattagggagctggaggagaggag, Diversity: 1.0\n",
      "aagaggtgcaggccccttcgatgtatgaggaaggcctggaggaccttgtagtaatccattgtaatgagcggggtgtgtaggagcgggccatggtttgcttagtgactgtgctctggcgaggccgggagagcaacagttggaaaaacggtttggaagctcaaagccgagaagtatcacttgtgcttgggggtggttgggcaatgaagtcatggagatcggcaagttcctacaataaaggtgaacaagctgattttgttggccaagatttccttattcctgcctctgaattggcttgttcggctctatttaggatacacctagacatgatccacaaactcaaaaatgatcgctcggacaaattcaccacatgaaaaaatctcatacttcaccgaaggaaggcctatgtggtgattgacacgatactgaaggatttgcggctgtacccatgttcgagcattggttggataggtatgtgtgggtggaatgcgaggtggaggatt\n",
      "\n",
      ">seed atggctcgatcgccattggagacggccttatatgttgtcctagcactctccggcagataaaggcacgccaaacgagctcttgtccggagataacacgtcgtccatggccagtcgagctcgccatcgaggttagtttaatggactcaactatctttccgcattatgttgtgtgttggaaccaatatgattacattgctaacaatgagttgtgttggaggctgctattcagaaagagagagaggcaatgcaggtggctatggcggagaaggataaggaaattagggagctggaggagaggag, Diversity: 1.2\n",
      "ttgaaggatggcatagcaatatgtttaatatagtcggtgatgtcccgtgcatagatgtctggttgctaggaaggcgtgggagaccgccctcaaagaataagccagccgataaaaatcaagatggcactcaaattgaactacttgtaccaatgaaccggacaacggtgatggagataggataatcagatagtacccgccgtgtgtgagcgcagatacttgacacctggggggcagccgaccgtactccaacaaagccaacaatattacggtttttcgtggagttcatcgacgagaagtataatatctgaacgcctgggagacaaccgttatatatgagcatgacaaattttgacggacattgacatattacatttgcgcgcgtgccgacaagttggtcgaaactaatccagattgacacgaggctactagtgggtggtttacatgagacatcttggggagtcgcgcttgctgtagcaaaattcgttttggagggaaggaga\n",
      "\n",
      "2109/2109 [==============================] - 838s 397ms/step - loss: 1.3128\n",
      "\n",
      "Generating text after epoch: 3\n",
      ">seed ctttggtcagcaaagatgatctcccaacaaatatgcgttacttgcatacatggtacttaagtgaatcaaagaatgagagaacgatgatcgtggtgaatgtcccacgggagtactacggccgccccgaagaaatccatatcgactttgatgaactcttccagatgtacaatggcgacgccctttacaaatcgcttatgagttgctattgtctgtaagtttttcaattcgttgtctacatataacttgtttagttatttcaattcattgtctatatataacttgtactctattatccagaat, Diversity: 1.0\n",
      "ttcatcacatgcatttatttgaactataaatgagcagtacttgaaatgaaaaaaaaattatttcaaaaacaaaaattttcatataattatcagttaataaatttcactcaattggttggaagccatttaagttttgacatgatcaaactatatttgaagtagattaattagtttttgattttgtattcccatttcaatttgcatagtgcatgccaaaaaaaatgaacagaggacaacatcagcatgaattgaagactgatgccacgtgaggaacacaactaactgaaggatagaagcgtgcgctgatggagcatggatgcatgctcagttggtgattgcggtcagtcttgcttgctgcggtacattcatttaaccgttccttctctcttccataggtacataatatgtgttctcaaattaccatatcgctaaattcaggggctaagaagtatgtgtaacgtttcacaatataaatgttgagtatataatagagttacagg\n",
      "\n",
      ">seed ctttggtcagcaaagatgatctcccaacaaatatgcgttacttgcatacatggtacttaagtgaatcaaagaatgagagaacgatgatcgtggtgaatgtcccacgggagtactacggccgccccgaagaaatccatatcgactttgatgaactcttccagatgtacaatggcgacgccctttacaaatcgcttatgagttgctattgtctgtaagtttttcaattcgttgtctacatataacttgtttagttatttcaattcattgtctatatataacttgtactctattatccagaat, Diversity: 1.2\n",
      "acagagagagattttggaacaaacttgcgctgacacgacggttagccttggcaagaaccgggacaaccccgactgaaccgggaacacgactaaccctcgcggggaagctcctgctctcctaaaccgacggccaaaaggatcgaagaagaacaaaaggagtatgggaaaaagaagaggaagaaggagaagaataacatgaacatttaagttctttgcggaaattttccacatgaagcgaagtggttcatcacgactgccaggtttcacatattttatgatcgccctcccgtgggatagcagcaccatcgccttcgacaggttcatatttaataatctatgcctctgtttatgagagataatttgcagttaaaaagaactctacgtaaagcttttggaagcatactgagtttggatgactccttacatggtagccttacaatgttacccctaacacagatagctagtcttgcgaagagaagaagaagatgtagagaagaaaa\n",
      "\n",
      "2109/2109 [==============================] - 840s 398ms/step - loss: nan\n",
      "\n",
      "Generating text after epoch: 4\n",
      ">seed ctgaatctactagtacttaacagaatttacatgagtacattcagttacttgagtatactgacatacatggtcactctaagataaattgcacacaaaaataataataatcaggaaaactttgaaggaaaacaggtatgatgcaccagttgatcgtagaatccgtcaatgttcagcagaccgacttgatacagagttgcgggaaagacatataccaggaataaatacaagtagtgacagaagaacaaaatgcatgagtcgacattgttgattactgaatgatccactcccacccacagaaat, Diversity: 1.0\n"
     ]
    },
    {
     "ename": "ValueError",
     "evalue": "pvals < 0, pvals > 1 or pvals contains NaNs",
     "output_type": "error",
     "traceback": [
      "\u001b[1;31m---------------------------------------------------------------------------\u001b[0m",
      "\u001b[1;31mValueError\u001b[0m                                Traceback (most recent call last)",
      "\u001b[1;32m<ipython-input-20-f1a81cbcecf2>\u001b[0m in \u001b[0;36m<module>\u001b[1;34m\u001b[0m\n\u001b[0;32m     21\u001b[0m                 \u001b[0mx_pred\u001b[0m\u001b[1;33m[\u001b[0m\u001b[1;36m0\u001b[0m\u001b[1;33m,\u001b[0m \u001b[0mt\u001b[0m\u001b[1;33m,\u001b[0m \u001b[0mchar_indices\u001b[0m\u001b[1;33m[\u001b[0m\u001b[0mchar\u001b[0m\u001b[1;33m]\u001b[0m\u001b[1;33m]\u001b[0m \u001b[1;33m=\u001b[0m \u001b[1;36m1.0\u001b[0m\u001b[1;33m\u001b[0m\u001b[1;33m\u001b[0m\u001b[0m\n\u001b[0;32m     22\u001b[0m             \u001b[0mpreds\u001b[0m \u001b[1;33m=\u001b[0m \u001b[0mmodel\u001b[0m\u001b[1;33m.\u001b[0m\u001b[0mpredict\u001b[0m\u001b[1;33m(\u001b[0m\u001b[0mx_pred\u001b[0m\u001b[1;33m,\u001b[0m \u001b[0mverbose\u001b[0m\u001b[1;33m=\u001b[0m\u001b[1;36m0\u001b[0m\u001b[1;33m)\u001b[0m\u001b[1;33m[\u001b[0m\u001b[1;36m0\u001b[0m\u001b[1;33m]\u001b[0m\u001b[1;33m\u001b[0m\u001b[1;33m\u001b[0m\u001b[0m\n\u001b[1;32m---> 23\u001b[1;33m             \u001b[0mnext_index\u001b[0m \u001b[1;33m=\u001b[0m \u001b[0msample\u001b[0m\u001b[1;33m(\u001b[0m\u001b[0mpreds\u001b[0m\u001b[1;33m,\u001b[0m \u001b[0mdiversity\u001b[0m\u001b[1;33m)\u001b[0m\u001b[1;33m\u001b[0m\u001b[1;33m\u001b[0m\u001b[0m\n\u001b[0m\u001b[0;32m     24\u001b[0m             \u001b[0mnext_char\u001b[0m \u001b[1;33m=\u001b[0m \u001b[0mindices_char\u001b[0m\u001b[1;33m[\u001b[0m\u001b[0mnext_index\u001b[0m\u001b[1;33m]\u001b[0m\u001b[1;33m\u001b[0m\u001b[1;33m\u001b[0m\u001b[0m\n\u001b[0;32m     25\u001b[0m             \u001b[0msentence\u001b[0m \u001b[1;33m=\u001b[0m \u001b[0msentence\u001b[0m\u001b[1;33m[\u001b[0m\u001b[1;36m1\u001b[0m\u001b[1;33m:\u001b[0m\u001b[1;33m]\u001b[0m \u001b[1;33m+\u001b[0m \u001b[0mnext_char\u001b[0m\u001b[1;33m\u001b[0m\u001b[1;33m\u001b[0m\u001b[0m\n",
      "\u001b[1;32m<ipython-input-15-ded0137f8096>\u001b[0m in \u001b[0;36msample\u001b[1;34m(preds, temperature)\u001b[0m\n\u001b[0;32m      5\u001b[0m     \u001b[0mexp_preds\u001b[0m \u001b[1;33m=\u001b[0m \u001b[0mnp\u001b[0m\u001b[1;33m.\u001b[0m\u001b[0mexp\u001b[0m\u001b[1;33m(\u001b[0m\u001b[0mpreds\u001b[0m\u001b[1;33m)\u001b[0m\u001b[1;33m\u001b[0m\u001b[1;33m\u001b[0m\u001b[0m\n\u001b[0;32m      6\u001b[0m     \u001b[0mpreds\u001b[0m \u001b[1;33m=\u001b[0m \u001b[0mexp_preds\u001b[0m \u001b[1;33m/\u001b[0m \u001b[0mnp\u001b[0m\u001b[1;33m.\u001b[0m\u001b[0msum\u001b[0m\u001b[1;33m(\u001b[0m\u001b[0mexp_preds\u001b[0m\u001b[1;33m)\u001b[0m\u001b[1;33m\u001b[0m\u001b[1;33m\u001b[0m\u001b[0m\n\u001b[1;32m----> 7\u001b[1;33m     \u001b[0mprobas\u001b[0m \u001b[1;33m=\u001b[0m \u001b[0mnp\u001b[0m\u001b[1;33m.\u001b[0m\u001b[0mrandom\u001b[0m\u001b[1;33m.\u001b[0m\u001b[0mmultinomial\u001b[0m\u001b[1;33m(\u001b[0m\u001b[1;36m1\u001b[0m\u001b[1;33m,\u001b[0m \u001b[0mpreds\u001b[0m\u001b[1;33m,\u001b[0m \u001b[1;36m1\u001b[0m\u001b[1;33m)\u001b[0m\u001b[1;33m\u001b[0m\u001b[1;33m\u001b[0m\u001b[0m\n\u001b[0m\u001b[0;32m      8\u001b[0m     \u001b[1;32mreturn\u001b[0m \u001b[0mnp\u001b[0m\u001b[1;33m.\u001b[0m\u001b[0margmax\u001b[0m\u001b[1;33m(\u001b[0m\u001b[0mprobas\u001b[0m\u001b[1;33m)\u001b[0m\u001b[1;33m\u001b[0m\u001b[1;33m\u001b[0m\u001b[0m\n",
      "\u001b[1;32mmtrand.pyx\u001b[0m in \u001b[0;36mnumpy.random.mtrand.RandomState.multinomial\u001b[1;34m()\u001b[0m\n",
      "\u001b[1;32m_common.pyx\u001b[0m in \u001b[0;36mnumpy.random._common.check_array_constraint\u001b[1;34m()\u001b[0m\n",
      "\u001b[1;31mValueError\u001b[0m: pvals < 0, pvals > 1 or pvals contains NaNs"
     ]
    }
   ],
   "source": [
    "epochs = 6\n",
    "batch_size = 100\n",
    "\n",
    "#import sys\n",
    "#sys.stdout = open(\"LSTM_output.txt\", \"w\")\n",
    "for epoch in range(epochs):\n",
    "    model.fit(x, y, batch_size=batch_size, epochs=1)\n",
    "    print()\n",
    "    print(\"Generating text after epoch: %d\" % epoch)\n",
    "\n",
    "    start_index = random.randint(0, len(text) - maxlen - 1)\n",
    "    for diversity in [1.0, 1.2]:\n",
    "        \n",
    "        generated = \"\"\n",
    "        sentence = text[start_index : start_index + maxlen]\n",
    "        print(\">seed {}, Diversity: {}\". format(sentence, diversity))\n",
    "\n",
    "        for i in range(500):\n",
    "            x_pred = np.zeros((1, maxlen, len(chars)))\n",
    "            for t, char in enumerate(sentence):\n",
    "                x_pred[0, t, char_indices[char]] = 1.0\n",
    "            preds = model.predict(x_pred, verbose=0)[0]\n",
    "            next_index = sample(preds, diversity)\n",
    "            next_char = indices_char[next_index]\n",
    "            sentence = sentence[1:] + next_char\n",
    "            generated += next_char\n",
    "\n",
    "        print(generated)\n",
    "        print()"
   ]
  },
  {
   "cell_type": "code",
   "execution_count": null,
   "metadata": {},
   "outputs": [],
   "source": []
  }
 ],
 "metadata": {
  "kernelspec": {
   "display_name": "Python 3",
   "language": "python",
   "name": "python3"
  },
  "language_info": {
   "codemirror_mode": {
    "name": "ipython",
    "version": 3
   },
   "file_extension": ".py",
   "mimetype": "text/x-python",
   "name": "python",
   "nbconvert_exporter": "python",
   "pygments_lexer": "ipython3",
   "version": "3.8.5"
  }
 },
 "nbformat": 4,
 "nbformat_minor": 4
}
